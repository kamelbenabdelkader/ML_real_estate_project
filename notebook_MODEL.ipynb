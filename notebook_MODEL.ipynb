{
 "cells": [
  {
   "cell_type": "code",
   "execution_count": 53,
   "id": "b2d8231a",
   "metadata": {},
   "outputs": [],
   "source": [
    "# Imports \n",
    "import numpy as np\n",
    "import pandas as pd\n",
    "import matplotlib.pyplot as plt\n",
    "import seaborn as sns\n",
    "\n",
    "from sklearn.model_selection import train_test_split\n",
    "from sklearn.model_selection import cross_validate\n",
    "from sklearn.model_selection import cross_val_score\n",
    "from sklearn.model_selection import cross_val_predict\n",
    "\n",
    "from sklearn.linear_model import LinearRegression\n",
    "\n",
    "\n",
    "from sklearn.linear_model import LogisticRegression\n",
    "from sklearn.dummy import DummyClassifier\n",
    "from sklearn.neighbors import KNeighborsClassifier\n",
    "\n",
    "\n",
    "\n",
    "\n",
    "from sklearn.model_selection import train_test_split\n",
    "from sklearn.preprocessing import StandardScaler, normalize\n",
    "from sklearn.preprocessing import RobustScaler\n",
    "from sklearn.ensemble import RandomForestRegressor\n",
    "\n",
    "\n",
    "\n",
    "\n",
    "from sklearn.metrics import accuracy_score, precision_score, recall_score, f1_score, \\\n",
    "    confusion_matrix, classification_report\n",
    "\n",
    "from sklearn.metrics import roc_auc_score, plot_roc_curve, roc_curve\n",
    "from sklearn.metrics import average_precision_score\n",
    "from sklearn.metrics import precision_recall_curve,plot_precision_recall_curve\n",
    "\n",
    "from sklearn.model_selection import learning_curve\n",
    "\n",
    "from statsmodels.stats.outliers_influence import variance_inflation_factor as vif\n",
    "\n",
    "from sklearn.inspection import permutation_importance\n",
    "#import warnings\n",
    "#warnings.simplefilter(action=\"ignore\")"
   ]
  },
  {
   "cell_type": "markdown",
   "id": "9036d499",
   "metadata": {},
   "source": [
    "# First Baseline"
   ]
  },
  {
   "cell_type": "markdown",
   "id": "bc3fdd6e",
   "metadata": {},
   "source": [
    "## Regression lineaire avec outliers"
   ]
  },
  {
   "cell_type": "code",
   "execution_count": 54,
   "id": "34cad81b",
   "metadata": {
    "scrolled": true
   },
   "outputs": [],
   "source": [
    "dataset1 = pd.read_csv(\"DATA/df_encod.csv\", sep=',')"
   ]
  },
  {
   "cell_type": "code",
   "execution_count": 55,
   "id": "b51936ff",
   "metadata": {},
   "outputs": [],
   "source": [
    "data1 = dataset1.drop('Unnamed: 0', axis =1)\n",
    "data1 = data1.drop('ID', axis =1)"
   ]
  },
  {
   "cell_type": "code",
   "execution_count": 56,
   "id": "cc61bf59",
   "metadata": {},
   "outputs": [],
   "source": [
    "# define X, y\n",
    "y1 = dataset1['median_house_value']\n",
    "x1 = data1.drop('median_house_value', axis =1)"
   ]
  },
  {
   "cell_type": "code",
   "execution_count": 57,
   "id": "7691c784",
   "metadata": {},
   "outputs": [
    {
     "name": "stdout",
     "output_type": "stream",
     "text": [
      "coefficient of determination: 0.6469490011323338\n",
      "intercept: -2162591.5413745996\n",
      "slope: [-2.59641026e+04 -2.48449264e+04  1.04884603e+03 -4.95804783e+00\n",
      "  7.01694945e+01 -3.85490289e+01  7.92461808e+01  3.88202895e+04\n",
      " -2.67115858e+04 -6.69765896e+04  1.46474863e+05 -2.99475191e+04\n",
      " -2.28391691e+04]\n",
      "Predicted response:\n",
      "[ 35430.6490017  317386.949328    60012.92021908 ... 152597.98004801\n",
      " 178550.81039786 150093.57439964]\n"
     ]
    }
   ],
   "source": [
    "# Create an instance of a linear regression model and fit it to the data with the fit() function:\n",
    "model1 = LinearRegression().fit(x1, y1) \n",
    "\n",
    "# The following section will get results by interpreting the created instance: \n",
    "\n",
    "# Obtain the coefficient of determination by calling the model with the score() function, then print the coefficient:\n",
    "r_sq = model1.score(x1, y1)\n",
    "print('coefficient of determination:', r_sq)\n",
    "\n",
    "# Print the Intercept:\n",
    "print('intercept:', model1.intercept_)\n",
    "\n",
    "# Print the Slope:\n",
    "print('slope:', model1.coef_) \n",
    "\n",
    "# Predict a Response and print it:\n",
    "y_pred1 = model1.predict(x)\n",
    "print('Predicted response:', y_pred1, sep='\\n')"
   ]
  },
  {
   "cell_type": "markdown",
   "id": "beeef48f",
   "metadata": {},
   "source": [
    "# Iteration 2"
   ]
  },
  {
   "cell_type": "markdown",
   "id": "3897a918",
   "metadata": {},
   "source": [
    "## Regression lineaire sans outliers"
   ]
  },
  {
   "cell_type": "code",
   "execution_count": 58,
   "id": "5e00f7e4",
   "metadata": {},
   "outputs": [],
   "source": [
    "dataset2 = pd.read_csv(\"DATA/df_encod_sans_outliers.csv\", sep=',')"
   ]
  },
  {
   "cell_type": "code",
   "execution_count": 59,
   "id": "44abfefd",
   "metadata": {},
   "outputs": [],
   "source": [
    "data2 = dataset2.drop('Unnamed: 0', axis =1)\n",
    "data2 = data2.drop('ID', axis =1)"
   ]
  },
  {
   "cell_type": "code",
   "execution_count": 60,
   "id": "8fcd9f5d",
   "metadata": {},
   "outputs": [],
   "source": [
    "# define X, y\n",
    "y2 = dataset2['median_house_value']\n",
    "x2 = data2.drop('median_house_value', axis =1)"
   ]
  },
  {
   "cell_type": "code",
   "execution_count": 61,
   "id": "23b0bc22",
   "metadata": {},
   "outputs": [
    {
     "name": "stdout",
     "output_type": "stream",
     "text": [
      "coefficient of determination: 0.618593316227131\n",
      "intercept: -1920466.9825578732\n",
      "slope: [-2.28541279e+04 -2.10075867e+04  6.91829243e+02 -4.52124019e+00\n",
      "  5.33700973e+01 -2.76142716e+01  6.25926669e+01  3.47952557e+04\n",
      " -1.68186921e+04 -5.73281905e+04  1.13147930e+05 -2.36915525e+04\n",
      " -1.53094948e+04]\n",
      "Predicted response:\n",
      "[ 48691.86412554 300396.75988997  66669.49002385 ... 151254.00565739\n",
      " 172019.07684258 150106.19644667]\n"
     ]
    }
   ],
   "source": [
    "# Create an instance of a linear regression model and fit it to the data with the fit() function:\n",
    "model2 = LinearRegression().fit(x2, y2) \n",
    "\n",
    "# The following section will get results by interpreting the created instance: \n",
    "\n",
    "# Obtain the coefficient of determination by calling the model with the score() function, then print the coefficient:\n",
    "r_sq2 = model2.score(x2, y2)\n",
    "print('coefficient of determination:', r_sq2)\n",
    "\n",
    "# Print the Intercept:\n",
    "print('intercept:', model2.intercept_)\n",
    "\n",
    "# Print the Slope:\n",
    "print('slope:', model2.coef_) \n",
    "\n",
    "# Predict a Response and print it:\n",
    "y_pred2 = model2.predict(x)\n",
    "print('Predicted response:', y_pred2, sep='\\n')"
   ]
  },
  {
   "cell_type": "markdown",
   "id": "3cf131df",
   "metadata": {},
   "source": [
    "# Iteration 3"
   ]
  },
  {
   "cell_type": "markdown",
   "id": "ccd10dec",
   "metadata": {},
   "source": [
    "## Random forest avec Outliers"
   ]
  },
  {
   "cell_type": "code",
   "execution_count": 62,
   "id": "133f5079",
   "metadata": {},
   "outputs": [
    {
     "ename": "NameError",
     "evalue": "name 'RobustScaler' is not defined",
     "output_type": "error",
     "traceback": [
      "\u001b[0;31m---------------------------------------------------------------------------\u001b[0m",
      "\u001b[0;31mNameError\u001b[0m                                 Traceback (most recent call last)",
      "Cell \u001b[0;32mIn [62], line 4\u001b[0m\n\u001b[1;32m      2\u001b[0m y \u001b[38;5;241m=\u001b[39m dataset1[\u001b[38;5;124m'\u001b[39m\u001b[38;5;124mmedian_house_value\u001b[39m\u001b[38;5;124m'\u001b[39m]\n\u001b[1;32m      3\u001b[0m \u001b[38;5;66;03m# standardizing the features (scaling)\u001b[39;00m\n\u001b[0;32m----> 4\u001b[0m X \u001b[38;5;241m=\u001b[39m \u001b[43mRobustScaler\u001b[49m()\u001b[38;5;241m.\u001b[39mfit_transform(X)\n\u001b[1;32m      6\u001b[0m X_train, X_test, y_train, y_test \u001b[38;5;241m=\u001b[39m train_test_split(X,y,train_size\u001b[38;5;241m=\u001b[39m\u001b[38;5;241m0.3\u001b[39m)\n\u001b[1;32m      8\u001b[0m rf \u001b[38;5;241m=\u001b[39m RandomForestRegressor(n_estimators\u001b[38;5;241m=\u001b[39m\u001b[38;5;241m10\u001b[39m, random_state\u001b[38;5;241m=\u001b[39m\u001b[38;5;241m20\u001b[39m)\n",
      "\u001b[0;31mNameError\u001b[0m: name 'RobustScaler' is not defined"
     ]
    }
   ],
   "source": [
    "X = data1.drop('median_house_value', axis =1)\n",
    "y = dataset1['median_house_value']\n",
    "# standardizing the features (scaling)\n",
    "X = RobustScaler().fit_transform(X)\n",
    "\n",
    "X_train, X_test, y_train, y_test = train_test_split(X,y,train_size=0.3)\n",
    "\n",
    "rf = RandomForestRegressor(n_estimators=10, random_state=20)\n",
    "\n",
    "rf.fit(X_train, y_train)\n",
    "\n",
    "pred = rf.predict(X_test)\n",
    "\n",
    "# R2 \n",
    "print(\"R2={}\".format(rf.score(X_test,y_test)))\n",
    "\n",
    "# MAE\n",
    "errors = abs(pred - y_test)\n",
    "print('Mean Absolute Error:', round(np.mean(errors), 2))\n",
    "\n",
    "# MAPE\n",
    "mape = 100 * (errors / y_test)\n",
    "print('Mean Absolute Percentage Error :', round(np.mean(mape), 2), '%.')"
   ]
  },
  {
   "cell_type": "code",
   "execution_count": null,
   "id": "cbce6e58",
   "metadata": {},
   "outputs": [],
   "source": []
  }
 ],
 "metadata": {
  "kernelspec": {
   "display_name": "Python 3 (ipykernel)",
   "language": "python",
   "name": "python3"
  },
  "language_info": {
   "codemirror_mode": {
    "name": "ipython",
    "version": 3
   },
   "file_extension": ".py",
   "mimetype": "text/x-python",
   "name": "python",
   "nbconvert_exporter": "python",
   "pygments_lexer": "ipython3",
   "version": "3.8.12"
  },
  "toc": {
   "base_numbering": 1,
   "nav_menu": {},
   "number_sections": true,
   "sideBar": true,
   "skip_h1_title": false,
   "title_cell": "Table of Contents",
   "title_sidebar": "Contents",
   "toc_cell": false,
   "toc_position": {},
   "toc_section_display": true,
   "toc_window_display": false
  }
 },
 "nbformat": 4,
 "nbformat_minor": 5
}
