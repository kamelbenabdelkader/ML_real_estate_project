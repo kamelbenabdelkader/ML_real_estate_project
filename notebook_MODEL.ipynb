{
 "cells": [
  {
   "cell_type": "code",
   "execution_count": 4,
   "id": "6116db4d",
   "metadata": {},
   "outputs": [],
   "source": [
    "# Imports \n",
    "import numpy as np\n",
    "import pandas as pd\n",
    "import matplotlib.pyplot as plt\n",
    "import seaborn as sns\n",
    "\n",
    "from sklearn.model_selection import train_test_split\n",
    "from sklearn.model_selection import cross_validate\n",
    "from sklearn.model_selection import cross_val_score\n",
    "from sklearn.model_selection import cross_val_predict\n",
    "\n",
    "from sklearn.linear_model import LinearRegression\n",
    "\n",
    "\n",
    "from sklearn.linear_model import LogisticRegression\n",
    "from sklearn.dummy import DummyClassifier\n",
    "from sklearn.neighbors import KNeighborsClassifier\n",
    "\n",
    "\n",
    "\n",
    "\n",
    "from sklearn.model_selection import train_test_split\n",
    "from sklearn.preprocessing import StandardScaler, normalize\n",
    "from sklearn.preprocessing import RobustScaler\n",
    "from sklearn.ensemble import RandomForestRegressor\n",
    "\n",
    "\n",
    "\n",
    "\n",
    "from sklearn.metrics import accuracy_score, precision_score, recall_score, f1_score, \\\n",
    "    confusion_matrix, classification_report\n",
    "\n",
    "from sklearn.metrics import roc_auc_score, plot_roc_curve, roc_curve\n",
    "from sklearn.metrics import average_precision_score\n",
    "from sklearn.metrics import precision_recall_curve,plot_precision_recall_curve\n",
    "\n",
    "from sklearn.model_selection import learning_curve\n",
    "\n",
    "from statsmodels.stats.outliers_influence import variance_inflation_factor as vif\n",
    "\n",
    "from sklearn.inspection import permutation_importance\n",
    "#import warnings\n",
    "#warnings.simplefilter(action=\"ignore\")"
   ]
  },
  {
   "cell_type": "markdown",
   "id": "39a8e9fc",
   "metadata": {},
   "source": [
    "# First Baseline"
   ]
  },
  {
   "cell_type": "markdown",
   "id": "8c0ea905",
   "metadata": {},
   "source": [
    "## Regression lineaire avec outliers"
   ]
  },
  {
   "cell_type": "code",
   "execution_count": 8,
   "id": "5189c2ec",
   "metadata": {},
   "outputs": [],
   "source": [
    "dataset1 = pd.read_csv(\"DATA/df_encod.csv\", sep=',')\n",
    "data1 = dataset1.drop('Unnamed: 0', axis =1)"
   ]
  },
  {
   "cell_type": "code",
   "execution_count": 9,
   "id": "8d603384",
   "metadata": {},
   "outputs": [],
   "source": [
    "# define X, y\n",
    "y1 = dataset1['median_house_value']\n",
    "x1 = data1.drop('median_house_value', axis =1)"
   ]
  },
  {
   "cell_type": "code",
   "execution_count": 11,
   "id": "a088140d",
   "metadata": {},
   "outputs": [
    {
     "name": "stdout",
     "output_type": "stream",
     "text": [
      "coefficient of determination: 0.6469490011323338\n",
      "intercept: -2162591.5413745996\n",
      "slope: [-2.59641026e+04 -2.48449264e+04  1.04884603e+03 -4.95804783e+00\n",
      "  7.01694945e+01 -3.85490289e+01  7.92461808e+01  3.88202895e+04\n",
      " -2.67115858e+04 -6.69765896e+04  1.46474863e+05 -2.99475191e+04\n",
      " -2.28391691e+04]\n",
      "Predicted response:\n",
      "[ 35430.6490017  317386.949328    60012.92021908 ... 152597.98004801\n",
      " 178550.81039786 150093.57439964]\n"
     ]
    }
   ],
   "source": [
    "# Create an instance of a linear regression model and fit it to the data with the fit() function:\n",
    "model1 = LinearRegression().fit(x1, y1) \n",
    "\n",
    "# The following section will get results by interpreting the created instance: \n",
    "\n",
    "# Obtain the coefficient of determination by calling the model with the score() function, then print the coefficient:\n",
    "r_sq = model1.score(x1, y1)\n",
    "print('coefficient of determination:', r_sq)\n",
    "\n",
    "# Print the Intercept:\n",
    "print('intercept:', model1.intercept_)\n",
    "\n",
    "# Print the Slope:\n",
    "print('slope:', model1.coef_) \n",
    "\n",
    "# Predict a Response and print it:\n",
    "y_pred1 = model1.predict(x1)\n",
    "print('Predicted response:', y_pred1, sep='\\n')"
   ]
  },
  {
   "cell_type": "markdown",
   "id": "eaebaf8a",
   "metadata": {},
   "source": [
    "# Iteration 2"
   ]
  },
  {
   "cell_type": "markdown",
   "id": "41c46dfb",
   "metadata": {},
   "source": [
    "## Regression lineaire sans outliers"
   ]
  },
  {
   "cell_type": "code",
   "execution_count": 12,
   "id": "5a075491",
   "metadata": {},
   "outputs": [],
   "source": [
    "dataset2 = pd.read_csv(\"DATA/df_encod_sans_outliers.csv\", sep=',')\n",
    "data2 = dataset2.drop('Unnamed: 0', axis =1)"
   ]
  },
  {
   "cell_type": "code",
   "execution_count": 14,
   "id": "6a444a50",
   "metadata": {},
   "outputs": [],
   "source": [
    "# define X, y\n",
    "y2 = dataset2['median_house_value']\n",
    "x2 = data2.drop('median_house_value', axis =1)"
   ]
  },
  {
   "cell_type": "code",
   "execution_count": 15,
   "id": "ccd88401",
   "metadata": {},
   "outputs": [
    {
     "name": "stdout",
     "output_type": "stream",
     "text": [
      "coefficient of determination: 0.618593316227131\n",
      "intercept: -1920466.9825578732\n",
      "slope: [-2.28541279e+04 -2.10075867e+04  6.91829243e+02 -4.52124019e+00\n",
      "  5.33700973e+01 -2.76142716e+01  6.25926669e+01  3.47952557e+04\n",
      " -1.68186921e+04 -5.73281905e+04  1.13147930e+05 -2.36915525e+04\n",
      " -1.53094948e+04]\n",
      "Predicted response:\n",
      "[ 48691.86412554 300396.75988997  66669.49002385 ... 151254.00565739\n",
      " 172019.07684258 150106.19644668]\n"
     ]
    }
   ],
   "source": [
    "# Create an instance of a linear regression model and fit it to the data with the fit() function:\n",
    "model2 = LinearRegression().fit(x2, y2) \n",
    "\n",
    "# The following section will get results by interpreting the created instance: \n",
    "\n",
    "# Obtain the coefficient of determination by calling the model with the score() function, then print the coefficient:\n",
    "r_sq2 = model2.score(x2, y2)\n",
    "print('coefficient of determination:', r_sq2)\n",
    "\n",
    "# Print the Intercept:\n",
    "print('intercept:', model2.intercept_)\n",
    "\n",
    "# Print the Slope:\n",
    "print('slope:', model2.coef_) \n",
    "\n",
    "# Predict a Response and print it:\n",
    "y_pred2 = model2.predict(x2)\n",
    "print('Predicted response:', y_pred2, sep='\\n')"
   ]
  },
  {
   "cell_type": "code",
   "execution_count": null,
   "id": "c2a0a2e3",
   "metadata": {},
   "outputs": [],
   "source": []
  },
  {
   "cell_type": "code",
   "execution_count": null,
   "id": "6f9bafb0",
   "metadata": {},
   "outputs": [],
   "source": []
  },
  {
   "cell_type": "code",
   "execution_count": null,
   "id": "ebc9cd4e",
   "metadata": {},
   "outputs": [],
   "source": []
  },
  {
   "cell_type": "code",
   "execution_count": null,
   "id": "c22842a3",
   "metadata": {},
   "outputs": [],
   "source": []
  },
  {
   "cell_type": "code",
   "execution_count": null,
   "id": "d684c0c4",
   "metadata": {},
   "outputs": [],
   "source": []
  }
 ],
 "metadata": {
  "kernelspec": {
   "display_name": "Python 3 (ipykernel)",
   "language": "python",
   "name": "python3"
  },
  "language_info": {
   "codemirror_mode": {
    "name": "ipython",
    "version": 3
   },
   "file_extension": ".py",
   "mimetype": "text/x-python",
   "name": "python",
   "nbconvert_exporter": "python",
   "pygments_lexer": "ipython3",
   "version": "3.8.12"
  },
  "toc": {
   "base_numbering": 1,
   "nav_menu": {},
   "number_sections": true,
   "sideBar": true,
   "skip_h1_title": false,
   "title_cell": "Table of Contents",
   "title_sidebar": "Contents",
   "toc_cell": false,
   "toc_position": {},
   "toc_section_display": true,
   "toc_window_display": false
  }
 },
 "nbformat": 4,
 "nbformat_minor": 5
}
